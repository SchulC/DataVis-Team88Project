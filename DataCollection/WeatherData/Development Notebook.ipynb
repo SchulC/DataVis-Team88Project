{
 "cells": [
  {
   "cell_type": "code",
   "execution_count": 3,
   "metadata": {},
   "outputs": [],
   "source": [
    "import sqlite3\n",
    "import pandas as pd\n",
    "from google.cloud import bigquery\n",
    "from google.oauth2 import service_account\n",
    "import pandas_gbq\n",
    "from scipy.spatial import distance\n",
    "import numpy as np"
   ]
  },
  {
   "cell_type": "code",
   "execution_count": 4,
   "metadata": {},
   "outputs": [],
   "source": [
    "# Get a dataframe of all the cities at hand, along with their latitude and longitude\n",
    "conn = sqlite3.connect('../cityDB.sqlite')\n",
    "cities = pd.read_sql_query(\"SELECT cid, city, state, lat, lng  FROM cities;\", conn)"
   ]
  },
  {
   "cell_type": "code",
   "execution_count": 6,
   "metadata": {},
   "outputs": [],
   "source": [
    "# Get the coordinates for the cities\n",
    "cities['coordinates'] = zip(cities.lat, cities.lng)\n",
    "\n",
    "# Get a list of all the stations in the US from NOAA data publicly available on BigQuery\n",
    "credentials = service_account.Credentials.from_service_account_file('bigquery_key.json')\n",
    "stations_query = (\"\"\"SELECT *\n",
    "FROM `bigquery-public-data.noaa_gsod.stations`\n",
    "WHERE country = 'US'\"\"\")\n",
    "stations = pandas_gbq.read_gbq(stations_query,\n",
    "                               project_id=\"dva-destination-recommender\",\n",
    "                               credentials=credentials, dialect='standard')\n",
    "\n",
    "# Get the coordinates for the stations\n",
    "stations['coordinates'] = np.array(zip(stations.lat, stations.lon))"
   ]
  },
  {
   "cell_type": "code",
   "execution_count": null,
   "metadata": {},
   "outputs": [],
   "source": []
  }
 ],
 "metadata": {
  "kernelspec": {
   "display_name": "Python 3",
   "language": "python",
   "name": "python3"
  },
  "language_info": {
   "codemirror_mode": {
    "name": "ipython",
    "version": 3
   },
   "file_extension": ".py",
   "mimetype": "text/x-python",
   "name": "python",
   "nbconvert_exporter": "python",
   "pygments_lexer": "ipython3",
   "version": "3.6.7"
  }
 },
 "nbformat": 4,
 "nbformat_minor": 2
}
