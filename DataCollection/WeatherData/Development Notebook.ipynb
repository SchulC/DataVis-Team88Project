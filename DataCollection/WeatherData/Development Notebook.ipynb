{
 "cells": [
  {
   "cell_type": "code",
   "execution_count": 11,
   "metadata": {},
   "outputs": [
    {
     "name": "stdout",
     "output_type": "stream",
     "text": [
      "Requirement already up-to-date: google-api-python-client in c:\\users\\celherme1\\anaconda3\\lib\\site-packages (1.7.8)\n",
      "Requirement already satisfied, skipping upgrade: six<2dev,>=1.6.1 in c:\\users\\celherme1\\anaconda3\\lib\\site-packages (from google-api-python-client) (1.11.0)\n",
      "Requirement already satisfied, skipping upgrade: google-auth>=1.4.1 in c:\\users\\celherme1\\anaconda3\\lib\\site-packages (from google-api-python-client) (1.6.3)\n",
      "Requirement already satisfied, skipping upgrade: httplib2<1dev,>=0.9.2 in c:\\users\\celherme1\\anaconda3\\lib\\site-packages (from google-api-python-client) (0.12.1)\n",
      "Requirement already satisfied, skipping upgrade: uritemplate<4dev,>=3.0.0 in c:\\users\\celherme1\\anaconda3\\lib\\site-packages (from google-api-python-client) (3.0.0)\n",
      "Requirement already satisfied, skipping upgrade: google-auth-httplib2>=0.0.3 in c:\\users\\celherme1\\anaconda3\\lib\\site-packages (from google-api-python-client) (0.0.3)\n",
      "Requirement already satisfied, skipping upgrade: rsa>=3.1.4 in c:\\users\\celherme1\\anaconda3\\lib\\site-packages (from google-auth>=1.4.1->google-api-python-client) (4.0)\n",
      "Requirement already satisfied, skipping upgrade: pyasn1-modules>=0.2.1 in c:\\users\\celherme1\\anaconda3\\lib\\site-packages (from google-auth>=1.4.1->google-api-python-client) (0.2.2)\n",
      "Requirement already satisfied, skipping upgrade: cachetools>=2.0.0 in c:\\users\\celherme1\\anaconda3\\lib\\site-packages (from google-auth>=1.4.1->google-api-python-client) (3.1.0)\n",
      "Requirement already satisfied, skipping upgrade: pyasn1>=0.1.3 in c:\\users\\celherme1\\anaconda3\\lib\\site-packages (from rsa>=3.1.4->google-auth>=1.4.1->google-api-python-client) (0.4.4)\n",
      "Requirement already satisfied: pandas_gbq in c:\\users\\celherme1\\anaconda3\\lib\\site-packages (0.9.0)\n",
      "Requirement already satisfied: google-cloud-bigquery>=0.32.0 in c:\\users\\celherme1\\anaconda3\\lib\\site-packages (from pandas_gbq) (1.10.0)\n",
      "Requirement already satisfied: setuptools in c:\\users\\celherme1\\anaconda3\\lib\\site-packages (from pandas_gbq) (40.6.3)\n",
      "Requirement already satisfied: pandas in c:\\users\\celherme1\\anaconda3\\lib\\site-packages (from pandas_gbq) (0.23.4)\n",
      "Requirement already satisfied: google-auth in c:\\users\\celherme1\\anaconda3\\lib\\site-packages (from pandas_gbq) (1.6.3)\n",
      "Requirement already satisfied: google-auth-oauthlib in c:\\users\\celherme1\\anaconda3\\lib\\site-packages (from pandas_gbq) (0.2.0)\n",
      "Requirement already satisfied: pydata-google-auth in c:\\users\\celherme1\\anaconda3\\lib\\site-packages (from pandas_gbq) (0.1.3)\n",
      "Requirement already satisfied: google-api-core<2.0.0dev,>=1.6.0 in c:\\users\\celherme1\\anaconda3\\lib\\site-packages (from google-cloud-bigquery>=0.32.0->pandas_gbq) (1.8.0)\n",
      "Requirement already satisfied: google-cloud-core<0.30dev,>=0.29.0 in c:\\users\\celherme1\\anaconda3\\lib\\site-packages (from google-cloud-bigquery>=0.32.0->pandas_gbq) (0.29.1)\n",
      "Requirement already satisfied: google-resumable-media>=0.3.1 in c:\\users\\celherme1\\anaconda3\\lib\\site-packages (from google-cloud-bigquery>=0.32.0->pandas_gbq) (0.3.2)\n",
      "Requirement already satisfied: python-dateutil>=2.5.0 in c:\\users\\celherme1\\anaconda3\\lib\\site-packages (from pandas->pandas_gbq) (2.7.5)\n",
      "Requirement already satisfied: pytz>=2011k in c:\\users\\celherme1\\anaconda3\\lib\\site-packages (from pandas->pandas_gbq) (2018.7)\n",
      "Requirement already satisfied: numpy>=1.9.0 in c:\\users\\celherme1\\anaconda3\\lib\\site-packages (from pandas->pandas_gbq) (1.15.4)\n",
      "Requirement already satisfied: pyasn1-modules>=0.2.1 in c:\\users\\celherme1\\anaconda3\\lib\\site-packages (from google-auth->pandas_gbq) (0.2.2)\n",
      "Requirement already satisfied: cachetools>=2.0.0 in c:\\users\\celherme1\\anaconda3\\lib\\site-packages (from google-auth->pandas_gbq) (3.1.0)\n",
      "Requirement already satisfied: rsa>=3.1.4 in c:\\users\\celherme1\\anaconda3\\lib\\site-packages (from google-auth->pandas_gbq) (4.0)\n",
      "Requirement already satisfied: six>=1.9.0 in c:\\users\\celherme1\\anaconda3\\lib\\site-packages (from google-auth->pandas_gbq) (1.11.0)\n",
      "Requirement already satisfied: requests-oauthlib>=0.7.0 in c:\\users\\celherme1\\anaconda3\\lib\\site-packages (from google-auth-oauthlib->pandas_gbq) (1.2.0)\n",
      "Requirement already satisfied: protobuf>=3.4.0 in c:\\users\\celherme1\\anaconda3\\lib\\site-packages (from google-api-core<2.0.0dev,>=1.6.0->google-cloud-bigquery>=0.32.0->pandas_gbq) (3.7.0)\n",
      "Requirement already satisfied: requests<3.0.0dev,>=2.18.0 in c:\\users\\celherme1\\anaconda3\\lib\\site-packages (from google-api-core<2.0.0dev,>=1.6.0->google-cloud-bigquery>=0.32.0->pandas_gbq) (2.20.1)\n",
      "Requirement already satisfied: googleapis-common-protos!=1.5.4,<2.0dev,>=1.5.3 in c:\\users\\celherme1\\anaconda3\\lib\\site-packages (from google-api-core<2.0.0dev,>=1.6.0->google-cloud-bigquery>=0.32.0->pandas_gbq) (1.5.8)\n",
      "Requirement already satisfied: pyasn1<0.5.0,>=0.4.1 in c:\\users\\celherme1\\anaconda3\\lib\\site-packages (from pyasn1-modules>=0.2.1->google-auth->pandas_gbq) (0.4.4)\n",
      "Requirement already satisfied: oauthlib>=3.0.0 in c:\\users\\celherme1\\anaconda3\\lib\\site-packages (from requests-oauthlib>=0.7.0->google-auth-oauthlib->pandas_gbq) (3.0.1)\n",
      "Requirement already satisfied: idna<2.8,>=2.5 in c:\\users\\celherme1\\anaconda3\\lib\\site-packages (from requests<3.0.0dev,>=2.18.0->google-api-core<2.0.0dev,>=1.6.0->google-cloud-bigquery>=0.32.0->pandas_gbq) (2.7)\n",
      "Requirement already satisfied: urllib3<1.25,>=1.21.1 in c:\\users\\celherme1\\anaconda3\\lib\\site-packages (from requests<3.0.0dev,>=2.18.0->google-api-core<2.0.0dev,>=1.6.0->google-cloud-bigquery>=0.32.0->pandas_gbq) (1.23)\n",
      "Requirement already satisfied: certifi>=2017.4.17 in c:\\users\\celherme1\\anaconda3\\lib\\site-packages (from requests<3.0.0dev,>=2.18.0->google-api-core<2.0.0dev,>=1.6.0->google-cloud-bigquery>=0.32.0->pandas_gbq) (2018.10.15)\n",
      "Requirement already satisfied: chardet<3.1.0,>=3.0.2 in c:\\users\\celherme1\\anaconda3\\lib\\site-packages (from requests<3.0.0dev,>=2.18.0->google-api-core<2.0.0dev,>=1.6.0->google-cloud-bigquery>=0.32.0->pandas_gbq) (3.0.4)\n",
      "Collecting mpu\n",
      "  Downloading https://files.pythonhosted.org/packages/8f/5e/3add96ecb19c8cf9c953ed27cd13a45394f903bc9f0a7165422889d7398c/mpu-0.17.0-py3-none-any.whl (56kB)\n",
      "Installing collected packages: mpu\n",
      "Successfully installed mpu-0.17.0\n"
     ]
    }
   ],
   "source": [
    "!pip install --upgrade google-api-python-client\n",
    "!pip install pandas_gbq\n",
    "!pip install mpu\n",
    "import sqlite3\n",
    "import pandas as pd\n",
    "from google.oauth2 import service_account\n",
    "import pandas_gbq\n",
    "from scipy.spatial import distance\n",
    "import numpy as np\n",
    "import mpu"
   ]
  },
  {
   "cell_type": "code",
   "execution_count": 2,
   "metadata": {},
   "outputs": [],
   "source": [
    "# Get a dataframe of all the cities at hand, along with their latitude and longitude\n",
    "conn = sqlite3.connect('../cityDB.sqlite')\n",
    "cities = pd.read_sql_query(\"SELECT cid, city, state, lat, lng  FROM cities;\", conn)\n",
    "\n",
    "# Get the coordinates for the cities\n",
    "cities['coordinates'] = cities.apply(lambda x: (x['lat'], x['lng']), axis=1)"
   ]
  },
  {
   "cell_type": "code",
   "execution_count": 29,
   "metadata": {},
   "outputs": [],
   "source": [
    "# Get a list of all the stations in the US from NOAA data publicly available on BigQuery\n",
    "credentials = service_account.Credentials.from_service_account_file('bigquery_key.json')\n",
    "stations_query = (\"\"\"SELECT *\n",
    "FROM `bigquery-public-data.noaa_gsod.stations`\n",
    "WHERE country = 'US'\"\"\")\n",
    "stations = pandas_gbq.read_gbq(stations_query,\n",
    "                               project_id=\"dva-destination-recommender\",\n",
    "                               credentials=credentials, dialect='standard')\n",
    "\n",
    "# Remove stations with null values\n",
    "stations.dropna(axis=0, inplace=True)\n",
    "\n",
    "# Get the coordinates for the stations\n",
    "stations['coordinates'] = stations.apply(lambda x: (x.lat, x.lon), axis=1)"
   ]
  },
  {
   "cell_type": "code",
   "execution_count": 4,
   "metadata": {},
   "outputs": [],
   "source": [
    "# Get the monthly weather over the past 5 years for all stations\n",
    "weather_query = (\"\"\"\n",
    "SELECT stn, wban, mo as month, AVG(temp) as avg_temp, AVG(prcp) as avg_prcp, SUM(CAST(fog AS int64))/5 as foggy_days, \n",
    "SUM(CAST(rain_drizzle as int64))/5 as rainy_days, \n",
    "SUM(CAST(snow_ice_pellets as int64))/5 as snow_days, \n",
    "SUM(CAST(thunder as int64))/5 as stormy_days\n",
    "FROM\n",
    "(SELECT\n",
    "  *\n",
    "FROM \n",
    " `bigquery-public-data.noaa_gsod.gsod2018`\n",
    "UNION ALL\n",
    "SELECT\n",
    "  *\n",
    "FROM \n",
    " `bigquery-public-data.noaa_gsod.gsod2017`\n",
    "UNION ALL\n",
    "SELECT\n",
    "  *\n",
    "FROM \n",
    " `bigquery-public-data.noaa_gsod.gsod2016`\n",
    "UNION ALL\n",
    "SELECT\n",
    "  *\n",
    "FROM \n",
    " `bigquery-public-data.noaa_gsod.gsod2015`\n",
    "UNION ALL\n",
    "SELECT\n",
    "  *\n",
    "FROM \n",
    " `bigquery-public-data.noaa_gsod.gsod2014`) a\n",
    " GROUP BY 1,2,3\"\"\")\n",
    "\n",
    "weather = pandas_gbq.read_gbq(weather_query,\n",
    "                               project_id=\"dva-destination-recommender\",\n",
    "                               credentials=credentials, dialect='standard')"
   ]
  },
  {
   "cell_type": "code",
   "execution_count": 30,
   "metadata": {},
   "outputs": [],
   "source": [
    "# Only keep the stations for which we have weather info\n",
    "stations_with_weather = weather.merge(stations, how='inner', left_on=['stn', 'wban'], right_on=['usaf', 'wban'])"
   ]
  },
  {
   "cell_type": "code",
   "execution_count": 68,
   "metadata": {},
   "outputs": [],
   "source": [
    "def find_closest_station(city_coord, stations):\n",
    "    \"\"\"\n",
    "    INPUTS:\n",
    "    city_coord (tuple): a tuple with the coordinates for the city\n",
    "    stations (Pandas DataFrame): a Pandas DataFrame with station information\n",
    "\n",
    "    OUTPUT:\n",
    "    ids (int): the station ID for the closest station to the city, both usaf and wban\n",
    "    \"\"\"\n",
    "    # Initialize a dictionary to hold the distance with each station coordinates\n",
    "    station_dict = {}\n",
    "    \n",
    "    for station in stations['coordinates'].unique().tolist():\n",
    "        station_dict[station] = mpu.haversine_distance(city_coord, station)\n",
    "        \n",
    "    closest_station = sorted(station_dict.items(), key=lambda x: x[1])[0][0]\n",
    "    \n",
    "    usaf = stations.loc[stations['coordinates'] == closest_station, 'usaf']\n",
    "    wban = stations.loc[stations['coordinates'] == closest_station, 'wban']\n",
    "\n",
    "    ids = str(usaf) + '|' + str(wban)\n",
    "\n",
    "    return ids"
   ]
  },
  {
   "cell_type": "code",
   "execution_count": null,
   "metadata": {},
   "outputs": [],
   "source": [
    "# Find the closest station for each city in the dataframe\n",
    "closest_stations = []\n",
    "for row_num in range(len(cities)):\n",
    "    city_coord = cities.iloc[row_num].coordinates\n",
    "    closest_stations.append(find_closest_station(city_coord, stations_with_weather))"
   ]
  },
  {
   "cell_type": "code",
   "execution_count": 8,
   "metadata": {},
   "outputs": [],
   "source": [
    "cities['closest_station'] = closest_stations"
   ]
  },
  {
   "cell_type": "code",
   "execution_count": 9,
   "metadata": {},
   "outputs": [],
   "source": [
    "cities[['closest_station_usaf', 'closest_station_wban']] = cities['closest_station'].str.split('|',expand=True)"
   ]
  },
  {
   "cell_type": "code",
   "execution_count": 18,
   "metadata": {},
   "outputs": [],
   "source": [
    "# Append weather information to the cities\n",
    "city_monthly_weather = cities.merge(stations_with_weather, how='left', left_on=['closest_station_wban', 'closest_station_usaf'],\n",
    "                                   right_on=['wban', 'stn'])"
   ]
  },
  {
   "cell_type": "code",
   "execution_count": 21,
   "metadata": {},
   "outputs": [],
   "source": [
    "# Drop unecessary columns and columns with unsupported types in sqlite\n",
    "city_monthly_weather.drop(labels=['usaf', 'name', 'country', 'state_y', 'coordinates_x', \n",
    "                                 'call', 'lat_y', 'lon', 'elev', 'begin', 'end', 'coordinates_y', 'stn', 'wban'], \n",
    "                          inplace=True, axis=1)"
   ]
  },
  {
   "cell_type": "code",
   "execution_count": 23,
   "metadata": {},
   "outputs": [],
   "source": [
    "# Rename columns\n",
    "city_monthly_weather.rename(axis=1, mapper={'state_x': 'state', 'lat_x': 'lat', 'lng': 'lon'}, inplace=True)"
   ]
  },
  {
   "cell_type": "code",
   "execution_count": 26,
   "metadata": {},
   "outputs": [],
   "source": [
    "# Store to database\n",
    "city_monthly_weather.to_sql('city_weather', conn, if_exists='replace')"
   ]
  }
 ],
 "metadata": {
  "kernelspec": {
   "display_name": "Python 3",
   "language": "python",
   "name": "python3"
  },
  "language_info": {
   "codemirror_mode": {
    "name": "ipython",
    "version": 3
   },
   "file_extension": ".py",
   "mimetype": "text/x-python",
   "name": "python",
   "nbconvert_exporter": "python",
   "pygments_lexer": "ipython3",
   "version": "3.6.7"
  }
 },
 "nbformat": 4,
 "nbformat_minor": 2
}
