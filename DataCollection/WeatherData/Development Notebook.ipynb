{
 "cells": [
  {
   "cell_type": "code",
   "execution_count": 3,
   "metadata": {},
   "outputs": [],
   "source": [
    "import sqlite3\n",
    "import pandas as pd\n",
    "from google.cloud import bigquery\n",
    "from google.oauth2 import service_account\n",
    "import pandas_gbq\n",
    "from scipy.spatial import distance\n",
    "import numpy as np"
   ]
  },
  {
   "cell_type": "code",
   "execution_count": 16,
   "metadata": {},
   "outputs": [],
   "source": [
    "# Get a dataframe of all the cities at hand, along with their latitude and longitude\n",
    "conn = sqlite3.connect('../cityDB.sqlite')\n",
    "cities = pd.read_sql_query(\"SELECT cid, city, state, lat, lng  FROM cities;\", conn)\n",
    "\n",
    "# Get the coordinates for the cities\n",
    "cities['coordinates'] = cities.apply(lambda x: (x['lat'], x['lng']), axis=1)"
   ]
  },
  {
   "cell_type": "code",
   "execution_count": 36,
   "metadata": {},
   "outputs": [],
   "source": [
    "# Get a list of all the stations in the US from NOAA data publicly available on BigQuery\n",
    "credentials = service_account.Credentials.from_service_account_file('bigquery_key.json')\n",
    "stations_query = (\"\"\"SELECT *\n",
    "FROM `bigquery-public-data.noaa_gsod.stations`\n",
    "WHERE country = 'US'\"\"\")\n",
    "stations = pandas_gbq.read_gbq(stations_query,\n",
    "                               project_id=\"dva-destination-recommender\",\n",
    "                               credentials=credentials, dialect='standard')\n",
    "\n",
    "# Remove stations with null values\n",
    "stations.dropna(axis=0, inplace=True)\n",
    "\n",
    "# Get the coordinates for the stations\n",
    "stations['coordinates'] = stations.apply(lambda x: np.array([x.lat, x.lon]), axis=1)"
   ]
  },
  {
   "cell_type": "code",
   "execution_count": 59,
   "metadata": {},
   "outputs": [],
   "source": [
    "def find_closest_station(city_coord, stations):\n",
    "    \"\"\"\n",
    "    INPUTS:\n",
    "    city_coord (tuple): a tuple with the coordinates for the city\n",
    "    stations (NumPy array): an array of coordinates for various stations\n",
    "\n",
    "    OUTPUT:\n",
    "    ids (int): the station ID for the closest station to the city, both usaf and wban\n",
    "    \"\"\"\n",
    "    stations_coord = np.array(stations['coordinates'].tolist())\n",
    "    closest_index = distance.cdist([city_coord], stations_coord).argmin()\n",
    "    usaf = stations.iloc[closest_index, 0]\n",
    "    wban = stations.iloc[closest_index, 1]\n",
    "\n",
    "    ids = str(usaf) + '|' + str(wban)\n",
    "\n",
    "    return ids"
   ]
  },
  {
   "cell_type": "code",
   "execution_count": 60,
   "metadata": {},
   "outputs": [],
   "source": [
    "# Find the closest station for each city in the dataframe\n",
    "closest_stations = []\n",
    "for row_num in range(len(cities)):\n",
    "    city_coord = cities.iloc[row_num].coordinates\n",
    "    closest_stations.append(find_closest_station(city_coord, stations))"
   ]
  },
  {
   "cell_type": "code",
   "execution_count": 61,
   "metadata": {},
   "outputs": [],
   "source": [
    "cities['closest_station'] = closest_stations"
   ]
  },
  {
   "cell_type": "code",
   "execution_count": 63,
   "metadata": {},
   "outputs": [],
   "source": [
    "cities[['closest_station_usaf', 'closest_station_wban']] = cities['closest_station'].str.split('|',expand=True)"
   ]
  },
  {
   "cell_type": "code",
   "execution_count": 64,
   "metadata": {},
   "outputs": [
    {
     "data": {
      "text/html": [
       "<div>\n",
       "<style scoped>\n",
       "    .dataframe tbody tr th:only-of-type {\n",
       "        vertical-align: middle;\n",
       "    }\n",
       "\n",
       "    .dataframe tbody tr th {\n",
       "        vertical-align: top;\n",
       "    }\n",
       "\n",
       "    .dataframe thead th {\n",
       "        text-align: right;\n",
       "    }\n",
       "</style>\n",
       "<table border=\"1\" class=\"dataframe\">\n",
       "  <thead>\n",
       "    <tr style=\"text-align: right;\">\n",
       "      <th></th>\n",
       "      <th>cid</th>\n",
       "      <th>city</th>\n",
       "      <th>state</th>\n",
       "      <th>lat</th>\n",
       "      <th>lng</th>\n",
       "      <th>coordinates</th>\n",
       "      <th>closest_station</th>\n",
       "      <th>closest_station_usaf</th>\n",
       "      <th>closest_station_wban</th>\n",
       "    </tr>\n",
       "  </thead>\n",
       "  <tbody>\n",
       "    <tr>\n",
       "      <th>0</th>\n",
       "      <td>g60763</td>\n",
       "      <td>New York</td>\n",
       "      <td>NY</td>\n",
       "      <td>40.712775</td>\n",
       "      <td>-74.005973</td>\n",
       "      <td>(40.7127753, -74.0059728)</td>\n",
       "      <td>720553|99999</td>\n",
       "      <td>720553</td>\n",
       "      <td>99999</td>\n",
       "    </tr>\n",
       "    <tr>\n",
       "      <th>1</th>\n",
       "      <td>g32655</td>\n",
       "      <td>Los Angeles</td>\n",
       "      <td>CA</td>\n",
       "      <td>34.052234</td>\n",
       "      <td>-118.243685</td>\n",
       "      <td>(34.0522342, -118.2436849)</td>\n",
       "      <td>999999|93134</td>\n",
       "      <td>999999</td>\n",
       "      <td>93134</td>\n",
       "    </tr>\n",
       "    <tr>\n",
       "      <th>2</th>\n",
       "      <td>g35805</td>\n",
       "      <td>Chicago</td>\n",
       "      <td>IL</td>\n",
       "      <td>41.639202</td>\n",
       "      <td>-87.454763</td>\n",
       "      <td>(41.63920239999999, -87.4547635)</td>\n",
       "      <td>725337|04807</td>\n",
       "      <td>725337</td>\n",
       "      <td>04807</td>\n",
       "    </tr>\n",
       "    <tr>\n",
       "      <th>3</th>\n",
       "      <td>g56003</td>\n",
       "      <td>Houston</td>\n",
       "      <td>TX</td>\n",
       "      <td>29.760427</td>\n",
       "      <td>-95.369803</td>\n",
       "      <td>(29.7604267, -95.3698028)</td>\n",
       "      <td>720594|99999</td>\n",
       "      <td>720594</td>\n",
       "      <td>99999</td>\n",
       "    </tr>\n",
       "    <tr>\n",
       "      <th>4</th>\n",
       "      <td>g31310</td>\n",
       "      <td>Phoenix</td>\n",
       "      <td>AZ</td>\n",
       "      <td>33.448377</td>\n",
       "      <td>-112.074037</td>\n",
       "      <td>(33.4483771, -112.0740373)</td>\n",
       "      <td>999999|23183</td>\n",
       "      <td>999999</td>\n",
       "      <td>23183</td>\n",
       "    </tr>\n",
       "  </tbody>\n",
       "</table>\n",
       "</div>"
      ],
      "text/plain": [
       "      cid         city state        lat         lng  \\\n",
       "0  g60763     New York    NY  40.712775  -74.005973   \n",
       "1  g32655  Los Angeles    CA  34.052234 -118.243685   \n",
       "2  g35805      Chicago    IL  41.639202  -87.454763   \n",
       "3  g56003      Houston    TX  29.760427  -95.369803   \n",
       "4  g31310      Phoenix    AZ  33.448377 -112.074037   \n",
       "\n",
       "                        coordinates closest_station closest_station_usaf  \\\n",
       "0         (40.7127753, -74.0059728)    720553|99999               720553   \n",
       "1        (34.0522342, -118.2436849)    999999|93134               999999   \n",
       "2  (41.63920239999999, -87.4547635)    725337|04807               725337   \n",
       "3         (29.7604267, -95.3698028)    720594|99999               720594   \n",
       "4        (33.4483771, -112.0740373)    999999|23183               999999   \n",
       "\n",
       "  closest_station_wban  \n",
       "0                99999  \n",
       "1                93134  \n",
       "2                04807  \n",
       "3                99999  \n",
       "4                23183  "
      ]
     },
     "execution_count": 64,
     "metadata": {},
     "output_type": "execute_result"
    }
   ],
   "source": [
    "cities.head()"
   ]
  },
  {
   "cell_type": "code",
   "execution_count": null,
   "metadata": {},
   "outputs": [],
   "source": []
  }
 ],
 "metadata": {
  "kernelspec": {
   "display_name": "Python 3",
   "language": "python",
   "name": "python3"
  },
  "language_info": {
   "codemirror_mode": {
    "name": "ipython",
    "version": 3
   },
   "file_extension": ".py",
   "mimetype": "text/x-python",
   "name": "python",
   "nbconvert_exporter": "python",
   "pygments_lexer": "ipython3",
   "version": "3.6.7"
  }
 },
 "nbformat": 4,
 "nbformat_minor": 2
}
